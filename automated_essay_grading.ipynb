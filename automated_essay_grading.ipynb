{
 "cells": [
  {
   "cell_type": "code",
   "execution_count": 43,
   "metadata": {},
   "outputs": [],
   "source": [
    "# importing required packages\n",
    "\n",
    "import nltk\n",
    "import pandas as pd\n",
    "import numpy as np\n",
    "import matplotlib.pyplot as plt\n",
    "from nltk.stem import WordNetLemmatizer\n",
    "from nltk.corpus import wordnet\n",
    "import re, collections\n",
    "from collections import defaultdict\n",
    "from sklearn.feature_extraction.text import CountVectorizer\n",
    "from sklearn.metrics import mean_squared_error, r2_score\n",
    "from sklearn.model_selection import train_test_split\n",
    "from sklearn.linear_model import LinearRegression\n",
    "from sklearn.svm import SVR\n",
    "from sklearn import ensemble\n",
    "from sklearn.model_selection import GridSearchCV\n",
    "from sklearn.metrics import cohen_kappa_score"
   ]
  },
  {
   "cell_type": "code",
   "execution_count": 44,
   "metadata": {},
   "outputs": [],
   "source": [
    "# getting data in a pandas dataframe\n",
    "\n",
    "dataframe = pd.read_excel('training_set_rel.xlsx', encoding = 'latin-1')"
   ]
  },
  {
   "cell_type": "code",
   "execution_count": 45,
   "metadata": {},
   "outputs": [],
   "source": [
    "# getting relevant columns\n",
    "\n",
    "data = dataframe[['essay_set','essay','domain1_score']].copy()\n",
    "\n",
    "#print(data)"
   ]
  },
  {
   "cell_type": "code",
   "execution_count": 46,
   "metadata": {},
   "outputs": [],
   "source": [
    "# Tokenize a sentence into words\n",
    "\n",
    "def sentence_to_wordlist(raw_sentence):\n",
    "    \n",
    "    clean_sentence = re.sub(\"[^a-zA-Z0-9]\",\" \", raw_sentence)\n",
    "    tokens = nltk.word_tokenize(clean_sentence)\n",
    "    \n",
    "    return tokens"
   ]
  },
  {
   "cell_type": "code",
   "execution_count": 47,
   "metadata": {},
   "outputs": [],
   "source": [
    "# tokenizing an essay into a list of word lists\n",
    "\n",
    "def tokenize(essay):\n",
    "    stripped_essay = essay.strip()\n",
    "    \n",
    "    tokenizer = nltk.data.load('tokenizers/punkt/english.pickle')\n",
    "    raw_sentences = tokenizer.tokenize(stripped_essay)\n",
    "    \n",
    "    tokenized_sentences = []\n",
    "    for raw_sentence in raw_sentences:\n",
    "        if len(raw_sentence) > 0:\n",
    "            tokenized_sentences.append(sentence_to_wordlist(raw_sentence))\n",
    "    \n",
    "    return tokenized_sentences"
   ]
  },
  {
   "cell_type": "code",
   "execution_count": 48,
   "metadata": {},
   "outputs": [],
   "source": [
    "# calculating average word length in an essay\n",
    "\n",
    "def avg_word_len(essay):\n",
    "    \n",
    "    clean_essay = re.sub(r'\\W', ' ', essay)\n",
    "    words = nltk.word_tokenize(clean_essay)\n",
    "    \n",
    "    return sum(len(word) for word in words) / len(words)"
   ]
  },
  {
   "cell_type": "code",
   "execution_count": 49,
   "metadata": {},
   "outputs": [],
   "source": [
    "# calculating number of words in an essay\n",
    "\n",
    "def word_count(essay):\n",
    "    \n",
    "    clean_essay = re.sub(r'\\W', ' ', essay)\n",
    "    words = nltk.word_tokenize(clean_essay)\n",
    "    \n",
    "    return len(words)"
   ]
  },
  {
   "cell_type": "code",
   "execution_count": 50,
   "metadata": {},
   "outputs": [],
   "source": [
    "# calculating number of characters in an essay\n",
    "\n",
    "def char_count(essay):\n",
    "    \n",
    "    clean_essay = re.sub(r'\\s', '', str(essay).lower())\n",
    "    \n",
    "    return len(clean_essay)"
   ]
  },
  {
   "cell_type": "code",
   "execution_count": 51,
   "metadata": {},
   "outputs": [],
   "source": [
    "# calculating number of sentences in an essay\n",
    "\n",
    "def sent_count(essay):\n",
    "    \n",
    "    sentences = nltk.sent_tokenize(essay)\n",
    "    \n",
    "    return len(sentences)"
   ]
  },
  {
   "cell_type": "code",
   "execution_count": 52,
   "metadata": {},
   "outputs": [],
   "source": [
    "# calculating number of lemmas per essay\n",
    "\n",
    "def count_lemmas(essay):\n",
    "    \n",
    "    tokenized_sentences = tokenize(essay)      \n",
    "    \n",
    "    lemmas = []\n",
    "    wordnet_lemmatizer = WordNetLemmatizer()\n",
    "    \n",
    "    for sentence in tokenized_sentences:\n",
    "        tagged_tokens = nltk.pos_tag(sentence) \n",
    "        \n",
    "        for token_tuple in tagged_tokens:\n",
    "        \n",
    "            pos_tag = token_tuple[1]\n",
    "        \n",
    "            if pos_tag.startswith('N'): \n",
    "                pos = wordnet.NOUN\n",
    "                lemmas.append(wordnet_lemmatizer.lemmatize(token_tuple[0], pos))\n",
    "            elif pos_tag.startswith('J'):\n",
    "                pos = wordnet.ADJ\n",
    "                lemmas.append(wordnet_lemmatizer.lemmatize(token_tuple[0], pos))\n",
    "            elif pos_tag.startswith('V'):\n",
    "                pos = wordnet.VERB\n",
    "                lemmas.append(wordnet_lemmatizer.lemmatize(token_tuple[0], pos))\n",
    "            elif pos_tag.startswith('R'):\n",
    "                pos = wordnet.ADV\n",
    "                lemmas.append(wordnet_lemmatizer.lemmatize(token_tuple[0], pos))\n",
    "            else:\n",
    "                pos = wordnet.NOUN\n",
    "                lemmas.append(wordnet_lemmatizer.lemmatize(token_tuple[0], pos))\n",
    "    \n",
    "    lemma_count = len(set(lemmas))\n",
    "    \n",
    "    return lemma_count"
   ]
  },
  {
   "cell_type": "code",
   "execution_count": 53,
   "metadata": {},
   "outputs": [],
   "source": [
    "# checking number of misspelled words\n",
    "\n",
    "def count_spell_error(essay):\n",
    "    \n",
    "    clean_essay = re.sub(r'\\W', ' ', str(essay).lower())\n",
    "    clean_essay = re.sub(r'[0-9]', '', clean_essay)\n",
    "    \n",
    "    #big.txt: It is a concatenation of public domain book excerpts from Project Gutenberg \n",
    "    #         and lists of most frequent words from Wiktionary and the British National Corpus.\n",
    "    #         It contains about a million words.\n",
    "    data = open('big.txt').read()\n",
    "    \n",
    "    words_ = re.findall('[a-z]+', data.lower())\n",
    "    \n",
    "    word_dict = collections.defaultdict(lambda: 0)\n",
    "                       \n",
    "    for word in words_:\n",
    "        word_dict[word] += 1\n",
    "                       \n",
    "    clean_essay = re.sub(r'\\W', ' ', str(essay).lower())\n",
    "    clean_essay = re.sub(r'[0-9]', '', clean_essay)\n",
    "                        \n",
    "    mispell_count = 0\n",
    "    \n",
    "    words = clean_essay.split()\n",
    "                        \n",
    "    for word in words:\n",
    "        if not word in word_dict:\n",
    "            mispell_count += 1\n",
    "    \n",
    "    return mispell_count"
   ]
  },
  {
   "cell_type": "code",
   "execution_count": 54,
   "metadata": {},
   "outputs": [],
   "source": [
    "# calculating number of nouns, adjectives, verbs and adverbs in an essay\n",
    "\n",
    "def count_pos(essay):\n",
    "    \n",
    "    tokenized_sentences = tokenize(essay)\n",
    "    \n",
    "    noun_count = 0\n",
    "    adj_count = 0\n",
    "    verb_count = 0\n",
    "    adv_count = 0\n",
    "    \n",
    "    for sentence in tokenized_sentences:\n",
    "        tagged_tokens = nltk.pos_tag(sentence)\n",
    "        \n",
    "        for token_tuple in tagged_tokens:\n",
    "            pos_tag = token_tuple[1]\n",
    "        \n",
    "            if pos_tag.startswith('N'): \n",
    "                noun_count += 1\n",
    "            elif pos_tag.startswith('J'):\n",
    "                adj_count += 1\n",
    "            elif pos_tag.startswith('V'):\n",
    "                verb_count += 1\n",
    "            elif pos_tag.startswith('R'):\n",
    "                adv_count += 1\n",
    "            \n",
    "    return noun_count, adj_count, verb_count, adv_count\n",
    "    "
   ]
  },
  {
   "cell_type": "code",
   "execution_count": 55,
   "metadata": {},
   "outputs": [],
   "source": [
    "# getiing Bag of Words (BOW) counts\n",
    "\n",
    "def get_count_vectors(essays):\n",
    "    \n",
    "    vectorizer = CountVectorizer(max_features = 10000, ngram_range=(1, 3), stop_words='english')\n",
    "    \n",
    "    count_vectors = vectorizer.fit_transform(essays)\n",
    "    \n",
    "    feature_names = vectorizer.get_feature_names()\n",
    "    \n",
    "    return feature_names, count_vectors"
   ]
  },
  {
   "cell_type": "code",
   "execution_count": 56,
   "metadata": {},
   "outputs": [
    {
     "name": "stderr",
     "output_type": "stream",
     "text": [
      "C:\\ProgramData\\Anaconda3\\lib\\site-packages\\ipykernel_launcher.py:7: FutureWarning: Method .as_matrix will be removed in a future version. Use .values instead.\n",
      "  import sys\n"
     ]
    }
   ],
   "source": [
    "# splitting data into train data and test data (70/30)\n",
    "\n",
    "feature_names_cv, count_vectors = get_count_vectors(data[data['essay_set'] == 1]['essay'])\n",
    "\n",
    "X_cv = count_vectors.toarray()\n",
    "\n",
    "y_cv = data[data['essay_set'] == 1]['domain1_score'].as_matrix()\n",
    "\n",
    "X_train, X_test, y_train, y_test = train_test_split(X_cv, y_cv, test_size = 0.3)"
   ]
  },
  {
   "cell_type": "code",
   "execution_count": 57,
   "metadata": {},
   "outputs": [
    {
     "name": "stdout",
     "output_type": "stream",
     "text": [
      "Coefficients: \n",
      " [-0.00579514  0.0100035   0.00201645 ... -0.00325098 -0.0032496\n",
      "  0.00176876]\n",
      "Mean squared error: 4.21\n",
      "Variance score: 0.51\n",
      "Cohen's kappa score: 0.05\n"
     ]
    }
   ],
   "source": [
    "# Training a Linear Regression model using only Bag of Words (BOW)\n",
    "\n",
    "linear_regressor = LinearRegression()\n",
    "\n",
    "linear_regressor.fit(X_train, y_train)\n",
    "\n",
    "y_pred = linear_regressor.predict(X_test)\n",
    "\n",
    "# The coefficients\n",
    "print('Coefficients: \\n',  linear_regressor.coef_)\n",
    "\n",
    "# The mean squared error\n",
    "print(\"Mean squared error: %.2f\" % mean_squared_error(y_test, y_pred))\n",
    "\n",
    "# Explained variance score: 1 is perfect prediction\n",
    "print('Variance score: %.2f' % linear_regressor.score(X_test, y_test))\n",
    "\n",
    "# Cohen’s kappa score: 1 is complete agreement\n",
    "print('Cohen\\'s kappa score: %.2f' % cohen_kappa_score(np.rint(y_pred), y_test))"
   ]
  },
  {
   "cell_type": "code",
   "execution_count": 58,
   "metadata": {},
   "outputs": [],
   "source": [
    "# extracting essay features\n",
    "\n",
    "def extract_features(data):\n",
    "    \n",
    "    features = data.copy()\n",
    "    \n",
    "    features['char_count'] = features['essay'].apply(char_count)\n",
    "    \n",
    "    features['word_count'] = features['essay'].apply(word_count)\n",
    "    \n",
    "    features['sent_count'] = features['essay'].apply(sent_count)\n",
    "    \n",
    "    features['avg_word_len'] = features['essay'].apply(avg_word_len)\n",
    "    \n",
    "    features['lemma_count'] = features['essay'].apply(count_lemmas)\n",
    "    \n",
    "    features['spell_err_count'] = features['essay'].apply(count_spell_error)\n",
    "    \n",
    "    features['noun_count'], features['adj_count'], features['verb_count'], features['adv_count'] = zip(*features['essay'].map(count_pos))\n",
    "    \n",
    "    return features"
   ]
  },
  {
   "cell_type": "code",
   "execution_count": 59,
   "metadata": {},
   "outputs": [
    {
     "name": "stdout",
     "output_type": "stream",
     "text": [
      "    essay_set                                              essay  \\\n",
      "0           1  Dear local newspaper, I think effects sharma  ...   \n",
      "1           1  Dear @CAPS1 @CAPS2, I believe that using compu...   \n",
      "2           1  Dear, @CAPS1 @CAPS2 @CAPS3 More and more peopl...   \n",
      "3           1  Dear Local Newspaper, @CAPS1 I have found that...   \n",
      "4           1  Dear @LOCATION1, I know having computers has a...   \n",
      "5           1  Dear @LOCATION1, I think that computers have a...   \n",
      "6           1  Did you know that more and more people these d...   \n",
      "7           1  @PERCENT1 of people agree that computers make ...   \n",
      "8           1  Dear reader, @ORGANIZATION1 has had a dramatic...   \n",
      "9           1  In the @LOCATION1 we have the technology of a ...   \n",
      "10          1  Dear @LOCATION1, @CAPS1 people acknowledge the...   \n",
      "11          1  Dear @CAPS1 @CAPS2 I feel that computers do ta...   \n",
      "12          1  Dear local newspaper I raed ur argument on the...   \n",
      "13          1  My three detaileds for this news paper article...   \n",
      "14          1  Dear, In this world today we should have every...   \n",
      "15          1  Dear @ORGANIZATION1, The computer blinked to l...   \n",
      "16          1  Dear Local Newspaper, I belive that computers ...   \n",
      "17          1  Dear Local Newspaper, I must admit that the ex...   \n",
      "18          1  I aegre waf the evansmant ov tnachnolage. The ...   \n",
      "19          1  Well computers can be a good or a bad thing. I...   \n",
      "20          1  Dear @CAPS1 of the @CAPS2 @CAPS3 daily, I am w...   \n",
      "21          1  Dear local Newspaper @CAPS1 a take all your co...   \n",
      "22          1  Dear local newspaper, @CAPS1 you ever see a ch...   \n",
      "23          1  Dear local newspaper, I've heard that not many...   \n",
      "24          1  Dear @CAPS1, @CAPS2 off, I beileve that comput...   \n",
      "25          1  Do you think that computers are useless? Or do...   \n",
      "26          1  Computers a good because you can get infermati...   \n",
      "27          1  Dear Newspaper, Computers are high tec and hav...   \n",
      "28          1  Dear local newspaper, @CAPS1 people throughout...   \n",
      "29          1  Dear Newspaper People, I think that computers ...   \n",
      "30          1  I agree that computers deffinately are an adva...   \n",
      "31          1  Dear Local Newspaper, @CAPS1 name is @PERSON1 ...   \n",
      "32          1  Dear, @ORGANIZATION1 I think the effects that ...   \n",
      "33          1  Dear @LOCATION1, @CAPS1 is a rumor going aroun...   \n",
      "34          1  Dear @CAPS1 @CAPS2, I think computers have a p...   \n",
      "35          1  Dear @CAPS1 @CAPS2, Have you ever wondered wha...   \n",
      "36          1  Dear @ORGANIZATION1, @CAPS1 has been brought t...   \n",
      "37          1  Dear local Newspaper, @CAPS1 in the society we...   \n",
      "38          1  Dear local Newspaper A lot more people uses co...   \n",
      "39          1  Dear local newspaper, my name is @PERSON1 I am...   \n",
      "40          1  I think computers are good because you can tal...   \n",
      "41          1  Dear @CAPS1 @CAPS2 @CAPS3: Computers have a ne...   \n",
      "42          1  The effect of people using computers isn't any...   \n",
      "43          1  People are spending too much time on computers...   \n",
      "44          1  Dear @LOCATION1, @CAPS1 you think the computer...   \n",
      "45          1  Dear, Local Newspaper @CAPS1 here to inform yo...   \n",
      "46          1  Dear newspaper, I feel as though internet or c...   \n",
      "47          1  Have you ever had the time completely fly by w...   \n",
      "48          1  Dear local newspaper, I am writing this letter...   \n",
      "49          1  Computers are the greatest tool mankind has. T...   \n",
      "\n",
      "    domain1_score  char_count  word_count  sent_count  avg_word_len  \\\n",
      "0               8        1543         351          16      4.239316   \n",
      "1               9        1870         423          20      4.312057   \n",
      "2               7        1263         283          14      4.342756   \n",
      "3              10        2642         530          27      4.813208   \n",
      "4               8        2105         473          30      4.334038   \n",
      "5               8        1031         247          15      4.052632   \n",
      "6              10        2310         508          30      4.385827   \n",
      "7              10        2243         508          39      4.242126   \n",
      "8               9        1960         451          35      4.190687   \n",
      "9               9        2131         519          26      3.982659   \n",
      "10              8        1639         330          22      4.812121   \n",
      "11              8        1791         401          25      4.361596   \n",
      "12              7         804         204           6      3.906863   \n",
      "13              6        1311         307          25      4.188925   \n",
      "14              6         816         177          13      4.485876   \n",
      "15             12        2641         534          35      4.799625   \n",
      "16              8        1470         347          18      4.092219   \n",
      "17              8        1594         375          15      4.112000   \n",
      "18              4         297          66           7      4.409091   \n",
      "19              6         713         160          11      4.300000   \n",
      "20              8        1683         368          20      4.467391   \n",
      "21              3         262          56           2      4.625000   \n",
      "22             10        2358         530          30      4.313208   \n",
      "23             11        2658         576          39      4.397569   \n",
      "24              8        1381         296          16      4.550676   \n",
      "25              9        1645         363          22      4.338843   \n",
      "26              4         531         122           7      4.188525   \n",
      "27              9        1687         363          28      4.515152   \n",
      "28              9        1692         378          23      4.306878   \n",
      "29              8        1165         264          15      4.299242   \n",
      "30             10        2132         484          34      4.196281   \n",
      "31             10        2277         499          36      4.368737   \n",
      "32              6         751         167          12      4.353293   \n",
      "33              8        1517         370          26      3.954054   \n",
      "34              9        1871         421          33      4.287411   \n",
      "35             10        2474         547          24      4.347349   \n",
      "36             12        2167         491          31      4.276986   \n",
      "37              8        1516         352          17      4.230114   \n",
      "38             10        1943         446          22      4.278027   \n",
      "39              7         833         195          15      4.133333   \n",
      "40              2         180          41           3      4.317073   \n",
      "41              8        1201         285          14      4.136842   \n",
      "42              6         637         143           8      4.349650   \n",
      "43              8        1324         314          28      4.073248   \n",
      "44              8        1389         326          20      4.110429   \n",
      "45              8        1333         311          11      4.186495   \n",
      "46              8        1330         318          18      4.091195   \n",
      "47             11        2309         562          33      3.959075   \n",
      "48              6        1489         318          27      4.569182   \n",
      "49              5         390          83           4      4.650602   \n",
      "\n",
      "    lemma_count  spell_err_count  noun_count  adj_count  verb_count  adv_count  \n",
      "0           163               10          83         18          75         24  \n",
      "1           185               24         107         19          85         19  \n",
      "2           145                5          82         20          52         16  \n",
      "3           236               34         178         42          97         29  \n",
      "4           190               19         114         32          90         36  \n",
      "5           127               15          53         12          49         17  \n",
      "6           213                9         136         31          80         38  \n",
      "7           202               14         133         32         112         29  \n",
      "8           214               11         110         32          86         30  \n",
      "9           204               24         109         40         112         37  \n",
      "10          203               14          88         31          70         20  \n",
      "11          154               35         102         39          84         29  \n",
      "12          112               24          43         17          43          7  \n",
      "13          127               40          81         35          57         12  \n",
      "14           97               15          57         15          30         10  \n",
      "15          246               35         168         39         103         23  \n",
      "16          138               11          71         19          74         23  \n",
      "17          166                9          79         24          77         38  \n",
      "18           50               33          25          5          14          1  \n",
      "19           92                8          52         14          27          9  \n",
      "20          180               15          83         27          75         39  \n",
      "21           38                2          20          2           8          1  \n",
      "22          214               27         130         33          96         24  \n",
      "23          239               19         157         48         104         34  \n",
      "24          121               10          79         19          59         12  \n",
      "25          159               15         101         19          75         15  \n",
      "26           67               13          32         10          24          8  \n",
      "27          180               29          95         33          74         20  \n",
      "28          157               20          94         24          75         22  \n",
      "29          117               11          63         21          70         12  \n",
      "30          219               20         117         38          92         39  \n",
      "31          218               16         140         28         102         33  \n",
      "32           98                5          49         16          30          9  \n",
      "33          162               22         104         25          70         21  \n",
      "34          169                8          96         31          94         21  \n",
      "35          229               19         125         46         105         34  \n",
      "36          223               32         117         44         103         25  \n",
      "37          156               11          78         23          71         18  \n",
      "38          194               20         119         29          80         29  \n",
      "39          112               12          57         10          42          0  \n",
      "40           30                0          12          2           8          1  \n",
      "41          129               13          63         21          51         19  \n",
      "42           85                5          37         10          28          5  \n",
      "43          108               21         101         18          59         19  \n",
      "44          149                9          94         22          47         24  \n",
      "45          106               14          76         17          75          7  \n",
      "46          157               15          87         20          54         27  \n",
      "47          218                9         127         33         101         48  \n",
      "48          138               11          80         24          55         22  \n",
      "49           62                7          21          8          13          8  \n"
     ]
    }
   ],
   "source": [
    "# extracting features from essay set 1\n",
    "\n",
    "features_set1 = extract_features(data[data['essay_set'] == 1])\n",
    "\n",
    "print(features_set1)"
   ]
  },
  {
   "cell_type": "code",
   "execution_count": 60,
   "metadata": {
    "scrolled": false
   },
   "outputs": [
    {
     "data": {
      "text/plain": [
       "<matplotlib.axes._subplots.AxesSubplot at 0x2045fe33be0>"
      ]
     },
     "execution_count": 60,
     "metadata": {},
     "output_type": "execute_result"
    },
    {
     "data": {
      "image/png": "[encoded data removed]",
      "text/plain": [
       "<Figure size 432x288 with 1 Axes>"
      ]
     },
     "metadata": {
      "needs_background": "light"
     },
     "output_type": "display_data"
    },
    {
     "data": {
      "image/png": "[encoded data removed]",
      "text/plain": [
       "<Figure size 432x288 with 1 Axes>"
      ]
     },
     "metadata": {
      "needs_background": "light"
     },
     "output_type": "display_data"
    },
    {
     "data": {
      "image/png": "[encoded data removed]",
      "text/plain": [
       "<Figure size 432x288 with 1 Axes>"
      ]
     },
     "metadata": {
      "needs_background": "light"
     },
     "output_type": "display_data"
    },
    {
     "data": {
      "image/png": "[encoded data removed]",
      "text/plain": [
       "<Figure size 432x288 with 1 Axes>"
      ]
     },
     "metadata": {
      "needs_background": "light"
     },
     "output_type": "display_data"
    },
    {
     "data": {
      "image/png": "[encoded data removed]",
      "text/plain": [
       "<Figure size 432x288 with 1 Axes>"
      ]
     },
     "metadata": {
      "needs_background": "light"
     },
     "output_type": "display_data"
    },
    {
     "data": {
      "image/png": "[encoded data removed]",
      "text/plain": [
       "<Figure size 432x288 with 1 Axes>"
      ]
     },
     "metadata": {
      "needs_background": "light"
     },
     "output_type": "display_data"
    },
    {
     "data": {
      "image/png": "[encoded data removed]",
      "text/plain": [
       "<Figure size 432x288 with 1 Axes>"
      ]
     },
     "metadata": {
      "needs_background": "light"
     },
     "output_type": "display_data"
    },
    {
     "data": {
      "image/png": "[encoded data removed]",
      "text/plain": [
       "<Figure size 432x288 with 1 Axes>"
      ]
     },
     "metadata": {
      "needs_background": "light"
     },
     "output_type": "display_data"
    },
    {
     "data": {
      "image/png": "[encoded data removed]",
      "text/plain": [
       "<Figure size 432x288 with 1 Axes>"
      ]
     },
     "metadata": {
      "needs_background": "light"
     },
     "output_type": "display_data"
    },
    {
     "data": {
      "image/png": "[encoded data removed]",
      "text/plain": [
       "<Figure size 432x288 with 1 Axes>"
      ]
     },
     "metadata": {
      "needs_background": "light"
     },
     "output_type": "display_data"
    }
   ],
   "source": [
    "# Exploratory Data Analysis (EDA) on the data\n",
    "\n",
    "%matplotlib inline\n",
    "features_set1.plot.scatter(x = 'char_count', y = 'domain1_score', s=10)\n",
    "features_set1.plot.scatter(x = 'word_count', y = 'domain1_score', s=10)\n",
    "features_set1.plot.scatter(x = 'sent_count', y = 'domain1_score', s=10)\n",
    "features_set1.plot.scatter(x = 'avg_word_len', y = 'domain1_score', s=10)\n",
    "features_set1.plot.scatter(x = 'lemma_count', y = 'domain1_score', s=10)\n",
    "features_set1.plot.scatter(x = 'spell_err_count', y = 'domain1_score', s=10)\n",
    "features_set1.plot.scatter(x = 'noun_count', y = 'domain1_score', s=10)\n",
    "features_set1.plot.scatter(x = 'adj_count', y = 'domain1_score', s=10)\n",
    "features_set1.plot.scatter(x = 'verb_count', y = 'domain1_score', s=10)\n",
    "features_set1.plot.scatter(x = 'adv_count', y = 'domain1_score', s=10)\n",
    "\n"
   ]
  },
  {
   "cell_type": "code",
   "execution_count": 61,
   "metadata": {},
   "outputs": [
    {
     "name": "stderr",
     "output_type": "stream",
     "text": [
      "C:\\ProgramData\\Anaconda3\\lib\\site-packages\\ipykernel_launcher.py:3: FutureWarning: Method .as_matrix will be removed in a future version. Use .values instead.\n",
      "  This is separate from the ipykernel package so we can avoid doing imports until\n",
      "C:\\ProgramData\\Anaconda3\\lib\\site-packages\\ipykernel_launcher.py:5: FutureWarning: Method .as_matrix will be removed in a future version. Use .values instead.\n",
      "  \"\"\"\n"
     ]
    }
   ],
   "source": [
    "# splitting data (BOW + other features) into train data and test data (70/30)\n",
    "    \n",
    "X = np.concatenate((features_set1.iloc[:, 3:].as_matrix(), X_cv), axis = 1)\n",
    "\n",
    "y = features_set1['domain1_score'].as_matrix()\n",
    "\n",
    "X_train, X_test, y_train, y_test = train_test_split(X, y, test_size = 0.3)"
   ]
  },
  {
   "cell_type": "code",
   "execution_count": 62,
   "metadata": {},
   "outputs": [
    {
     "name": "stdout",
     "output_type": "stream",
     "text": [
      "Coefficients: \n",
      " [-0.00301453  0.01464316 -0.02354914 ... -0.0005042  -0.0005042\n",
      " -0.00026469]\n",
      "Mean squared error: 0.99\n",
      "Variance score: 0.83\n",
      "Cohen's kappa score: 0.20\n"
     ]
    }
   ],
   "source": [
    "# Training a Linear Regression model using all the features (BOW + other features)\n",
    "\n",
    "linear_regressor = LinearRegression()\n",
    "\n",
    "linear_regressor.fit(X_train, y_train)\n",
    "\n",
    "y_pred = linear_regressor.predict(X_test)\n",
    "\n",
    "# The coefficients\n",
    "print('Coefficients: \\n', linear_regressor.coef_)\n",
    "\n",
    "# The mean squared error\n",
    "print(\"Mean squared error: %.2f\" % mean_squared_error(y_test, y_pred))\n",
    "\n",
    "# Explained variance score: 1 is perfect prediction\n",
    "print('Variance score: %.2f' % linear_regressor.score(X_test, y_test))\n",
    "\n",
    "# Cohen’s kappa score: 1 is complete agreement\n",
    "print('Cohen\\'s kappa score: %.2f' % cohen_kappa_score(np.rint(y_pred), y_test))"
   ]
  },
  {
   "cell_type": "code",
   "execution_count": 63,
   "metadata": {},
   "outputs": [
    {
     "name": "stderr",
     "output_type": "stream",
     "text": [
      "C:\\ProgramData\\Anaconda3\\lib\\site-packages\\ipykernel_launcher.py:3: FutureWarning: Method .as_matrix will be removed in a future version. Use .values instead.\n",
      "  This is separate from the ipykernel package so we can avoid doing imports until\n",
      "C:\\ProgramData\\Anaconda3\\lib\\site-packages\\ipykernel_launcher.py:5: FutureWarning: Method .as_matrix will be removed in a future version. Use .values instead.\n",
      "  \"\"\"\n"
     ]
    }
   ],
   "source": [
    "# splitting data (only 10 numerical/POS/orthographic features) into train data and test data (70/30)\n",
    "    \n",
    "X = features_set1.iloc[:, 3:].as_matrix()\n",
    "\n",
    "y = features_set1['domain1_score'].as_matrix()\n",
    "\n",
    "X_train, X_test, y_train, y_test = train_test_split(X, y, test_size = 0.3)"
   ]
  },
  {
   "cell_type": "code",
   "execution_count": 64,
   "metadata": {},
   "outputs": [
    {
     "name": "stdout",
     "output_type": "stream",
     "text": [
      "Coefficients: \n",
      " [ 2.23462393e-04  1.80719620e-02 -7.45898063e-03 -7.08040049e-01\n",
      "  3.75788220e-02  2.01857364e-02 -2.51795217e-02 -2.09401042e-02\n",
      " -2.95273068e-02 -8.07984656e-02]\n",
      "Mean squared error: 1.18\n",
      "Variance score: 0.49\n",
      "Cohen's kappa score: 0.21\n"
     ]
    }
   ],
   "source": [
    "# Training a Linear Regression model using only 10 numerical/POS/orthographic features\n",
    "\n",
    "linear_regressor = LinearRegression()\n",
    "\n",
    "linear_regressor.fit(X_train, y_train)\n",
    "\n",
    "y_pred = linear_regressor.predict(X_test)\n",
    "\n",
    "# The coefficients\n",
    "print('Coefficients: \\n', linear_regressor.coef_)\n",
    "\n",
    "# The mean squared error\n",
    "print(\"Mean squared error: %.2f\" % mean_squared_error(y_test, y_pred))\n",
    "\n",
    "# Explained variance score: 1 is perfect prediction\n",
    "print('Variance score: %.2f' % linear_regressor.score(X_test, y_test))\n",
    "\n",
    "# Cohen’s kappa score: 1 is complete agreement\n",
    "print('Cohen\\'s kappa score: %.2f' % cohen_kappa_score(np.rint(y_pred), y_test))"
   ]
  },
  {
   "cell_type": "code",
   "execution_count": 65,
   "metadata": {},
   "outputs": [
    {
     "name": "stdout",
     "output_type": "stream",
     "text": [
      "[[1.54300000e+03 3.51000000e+02 1.60000000e+01 4.23931624e+00\n",
      "  1.63000000e+02 1.00000000e+01 8.30000000e+01 1.80000000e+01\n",
      "  7.50000000e+01 2.40000000e+01]\n",
      " [1.87000000e+03 4.23000000e+02 2.00000000e+01 4.31205674e+00\n",
      "  1.85000000e+02 2.40000000e+01 1.07000000e+02 1.90000000e+01\n",
      "  8.50000000e+01 1.90000000e+01]\n",
      " [1.26300000e+03 2.83000000e+02 1.40000000e+01 4.34275618e+00\n",
      "  1.45000000e+02 5.00000000e+00 8.20000000e+01 2.00000000e+01\n",
      "  5.20000000e+01 1.60000000e+01]\n",
      " [2.64200000e+03 5.30000000e+02 2.70000000e+01 4.81320755e+00\n",
      "  2.36000000e+02 3.40000000e+01 1.78000000e+02 4.20000000e+01\n",
      "  9.70000000e+01 2.90000000e+01]\n",
      " [2.10500000e+03 4.73000000e+02 3.00000000e+01 4.33403805e+00\n",
      "  1.90000000e+02 1.90000000e+01 1.14000000e+02 3.20000000e+01\n",
      "  9.00000000e+01 3.60000000e+01]\n",
      " [1.03100000e+03 2.47000000e+02 1.50000000e+01 4.05263158e+00\n",
      "  1.27000000e+02 1.50000000e+01 5.30000000e+01 1.20000000e+01\n",
      "  4.90000000e+01 1.70000000e+01]\n",
      " [2.31000000e+03 5.08000000e+02 3.00000000e+01 4.38582677e+00\n",
      "  2.13000000e+02 9.00000000e+00 1.36000000e+02 3.10000000e+01\n",
      "  8.00000000e+01 3.80000000e+01]\n",
      " [2.24300000e+03 5.08000000e+02 3.90000000e+01 4.24212598e+00\n",
      "  2.02000000e+02 1.40000000e+01 1.33000000e+02 3.20000000e+01\n",
      "  1.12000000e+02 2.90000000e+01]\n",
      " [1.96000000e+03 4.51000000e+02 3.50000000e+01 4.19068736e+00\n",
      "  2.14000000e+02 1.10000000e+01 1.10000000e+02 3.20000000e+01\n",
      "  8.60000000e+01 3.00000000e+01]\n",
      " [2.13100000e+03 5.19000000e+02 2.60000000e+01 3.98265896e+00\n",
      "  2.04000000e+02 2.40000000e+01 1.09000000e+02 4.00000000e+01\n",
      "  1.12000000e+02 3.70000000e+01]\n",
      " [1.63900000e+03 3.30000000e+02 2.20000000e+01 4.81212121e+00\n",
      "  2.03000000e+02 1.40000000e+01 8.80000000e+01 3.10000000e+01\n",
      "  7.00000000e+01 2.00000000e+01]\n",
      " [1.79100000e+03 4.01000000e+02 2.50000000e+01 4.36159601e+00\n",
      "  1.54000000e+02 3.50000000e+01 1.02000000e+02 3.90000000e+01\n",
      "  8.40000000e+01 2.90000000e+01]\n",
      " [8.04000000e+02 2.04000000e+02 6.00000000e+00 3.90686275e+00\n",
      "  1.12000000e+02 2.40000000e+01 4.30000000e+01 1.70000000e+01\n",
      "  4.30000000e+01 7.00000000e+00]\n",
      " [1.31100000e+03 3.07000000e+02 2.50000000e+01 4.18892508e+00\n",
      "  1.27000000e+02 4.00000000e+01 8.10000000e+01 3.50000000e+01\n",
      "  5.70000000e+01 1.20000000e+01]\n",
      " [8.16000000e+02 1.77000000e+02 1.30000000e+01 4.48587571e+00\n",
      "  9.70000000e+01 1.50000000e+01 5.70000000e+01 1.50000000e+01\n",
      "  3.00000000e+01 1.00000000e+01]\n",
      " [2.64100000e+03 5.34000000e+02 3.50000000e+01 4.79962547e+00\n",
      "  2.46000000e+02 3.50000000e+01 1.68000000e+02 3.90000000e+01\n",
      "  1.03000000e+02 2.30000000e+01]\n",
      " [1.47000000e+03 3.47000000e+02 1.80000000e+01 4.09221902e+00\n",
      "  1.38000000e+02 1.10000000e+01 7.10000000e+01 1.90000000e+01\n",
      "  7.40000000e+01 2.30000000e+01]\n",
      " [1.59400000e+03 3.75000000e+02 1.50000000e+01 4.11200000e+00\n",
      "  1.66000000e+02 9.00000000e+00 7.90000000e+01 2.40000000e+01\n",
      "  7.70000000e+01 3.80000000e+01]\n",
      " [2.97000000e+02 6.60000000e+01 7.00000000e+00 4.40909091e+00\n",
      "  5.00000000e+01 3.30000000e+01 2.50000000e+01 5.00000000e+00\n",
      "  1.40000000e+01 1.00000000e+00]\n",
      " [7.13000000e+02 1.60000000e+02 1.10000000e+01 4.30000000e+00\n",
      "  9.20000000e+01 8.00000000e+00 5.20000000e+01 1.40000000e+01\n",
      "  2.70000000e+01 9.00000000e+00]\n",
      " [1.68300000e+03 3.68000000e+02 2.00000000e+01 4.46739130e+00\n",
      "  1.80000000e+02 1.50000000e+01 8.30000000e+01 2.70000000e+01\n",
      "  7.50000000e+01 3.90000000e+01]\n",
      " [2.62000000e+02 5.60000000e+01 2.00000000e+00 4.62500000e+00\n",
      "  3.80000000e+01 2.00000000e+00 2.00000000e+01 2.00000000e+00\n",
      "  8.00000000e+00 1.00000000e+00]\n",
      " [2.35800000e+03 5.30000000e+02 3.00000000e+01 4.31320755e+00\n",
      "  2.14000000e+02 2.70000000e+01 1.30000000e+02 3.30000000e+01\n",
      "  9.60000000e+01 2.40000000e+01]\n",
      " [2.65800000e+03 5.76000000e+02 3.90000000e+01 4.39756944e+00\n",
      "  2.39000000e+02 1.90000000e+01 1.57000000e+02 4.80000000e+01\n",
      "  1.04000000e+02 3.40000000e+01]\n",
      " [1.38100000e+03 2.96000000e+02 1.60000000e+01 4.55067568e+00\n",
      "  1.21000000e+02 1.00000000e+01 7.90000000e+01 1.90000000e+01\n",
      "  5.90000000e+01 1.20000000e+01]\n",
      " [1.64500000e+03 3.63000000e+02 2.20000000e+01 4.33884298e+00\n",
      "  1.59000000e+02 1.50000000e+01 1.01000000e+02 1.90000000e+01\n",
      "  7.50000000e+01 1.50000000e+01]\n",
      " [5.31000000e+02 1.22000000e+02 7.00000000e+00 4.18852459e+00\n",
      "  6.70000000e+01 1.30000000e+01 3.20000000e+01 1.00000000e+01\n",
      "  2.40000000e+01 8.00000000e+00]\n",
      " [1.68700000e+03 3.63000000e+02 2.80000000e+01 4.51515152e+00\n",
      "  1.80000000e+02 2.90000000e+01 9.50000000e+01 3.30000000e+01\n",
      "  7.40000000e+01 2.00000000e+01]\n",
      " [1.69200000e+03 3.78000000e+02 2.30000000e+01 4.30687831e+00\n",
      "  1.57000000e+02 2.00000000e+01 9.40000000e+01 2.40000000e+01\n",
      "  7.50000000e+01 2.20000000e+01]\n",
      " [1.16500000e+03 2.64000000e+02 1.50000000e+01 4.29924242e+00\n",
      "  1.17000000e+02 1.10000000e+01 6.30000000e+01 2.10000000e+01\n",
      "  7.00000000e+01 1.20000000e+01]\n",
      " [2.13200000e+03 4.84000000e+02 3.40000000e+01 4.19628099e+00\n",
      "  2.19000000e+02 2.00000000e+01 1.17000000e+02 3.80000000e+01\n",
      "  9.20000000e+01 3.90000000e+01]\n",
      " [2.27700000e+03 4.99000000e+02 3.60000000e+01 4.36873747e+00\n",
      "  2.18000000e+02 1.60000000e+01 1.40000000e+02 2.80000000e+01\n",
      "  1.02000000e+02 3.30000000e+01]\n",
      " [7.51000000e+02 1.67000000e+02 1.20000000e+01 4.35329341e+00\n",
      "  9.80000000e+01 5.00000000e+00 4.90000000e+01 1.60000000e+01\n",
      "  3.00000000e+01 9.00000000e+00]\n",
      " [1.51700000e+03 3.70000000e+02 2.60000000e+01 3.95405405e+00\n",
      "  1.62000000e+02 2.20000000e+01 1.04000000e+02 2.50000000e+01\n",
      "  7.00000000e+01 2.10000000e+01]\n",
      " [1.87100000e+03 4.21000000e+02 3.30000000e+01 4.28741093e+00\n",
      "  1.69000000e+02 8.00000000e+00 9.60000000e+01 3.10000000e+01\n",
      "  9.40000000e+01 2.10000000e+01]\n",
      " [2.47400000e+03 5.47000000e+02 2.40000000e+01 4.34734918e+00\n",
      "  2.29000000e+02 1.90000000e+01 1.25000000e+02 4.60000000e+01\n",
      "  1.05000000e+02 3.40000000e+01]\n",
      " [2.16700000e+03 4.91000000e+02 3.10000000e+01 4.27698574e+00\n",
      "  2.23000000e+02 3.20000000e+01 1.17000000e+02 4.40000000e+01\n",
      "  1.03000000e+02 2.50000000e+01]\n",
      " [1.51600000e+03 3.52000000e+02 1.70000000e+01 4.23011364e+00\n",
      "  1.56000000e+02 1.10000000e+01 7.80000000e+01 2.30000000e+01\n",
      "  7.10000000e+01 1.80000000e+01]\n",
      " [1.94300000e+03 4.46000000e+02 2.20000000e+01 4.27802691e+00\n",
      "  1.94000000e+02 2.00000000e+01 1.19000000e+02 2.90000000e+01\n",
      "  8.00000000e+01 2.90000000e+01]\n",
      " [8.33000000e+02 1.95000000e+02 1.50000000e+01 4.13333333e+00\n",
      "  1.12000000e+02 1.20000000e+01 5.70000000e+01 1.00000000e+01\n",
      "  4.20000000e+01 0.00000000e+00]\n",
      " [1.80000000e+02 4.10000000e+01 3.00000000e+00 4.31707317e+00\n",
      "  3.00000000e+01 0.00000000e+00 1.20000000e+01 2.00000000e+00\n",
      "  8.00000000e+00 1.00000000e+00]\n",
      " [1.20100000e+03 2.85000000e+02 1.40000000e+01 4.13684211e+00\n",
      "  1.29000000e+02 1.30000000e+01 6.30000000e+01 2.10000000e+01\n",
      "  5.10000000e+01 1.90000000e+01]\n",
      " [6.37000000e+02 1.43000000e+02 8.00000000e+00 4.34965035e+00\n",
      "  8.50000000e+01 5.00000000e+00 3.70000000e+01 1.00000000e+01\n",
      "  2.80000000e+01 5.00000000e+00]\n",
      " [1.32400000e+03 3.14000000e+02 2.80000000e+01 4.07324841e+00\n",
      "  1.08000000e+02 2.10000000e+01 1.01000000e+02 1.80000000e+01\n",
      "  5.90000000e+01 1.90000000e+01]\n",
      " [1.38900000e+03 3.26000000e+02 2.00000000e+01 4.11042945e+00\n",
      "  1.49000000e+02 9.00000000e+00 9.40000000e+01 2.20000000e+01\n",
      "  4.70000000e+01 2.40000000e+01]\n",
      " [1.33300000e+03 3.11000000e+02 1.10000000e+01 4.18649518e+00\n",
      "  1.06000000e+02 1.40000000e+01 7.60000000e+01 1.70000000e+01\n",
      "  7.50000000e+01 7.00000000e+00]\n",
      " [1.33000000e+03 3.18000000e+02 1.80000000e+01 4.09119497e+00\n",
      "  1.57000000e+02 1.50000000e+01 8.70000000e+01 2.00000000e+01\n",
      "  5.40000000e+01 2.70000000e+01]\n",
      " [2.30900000e+03 5.62000000e+02 3.30000000e+01 3.95907473e+00\n",
      "  2.18000000e+02 9.00000000e+00 1.27000000e+02 3.30000000e+01\n",
      "  1.01000000e+02 4.80000000e+01]\n",
      " [1.48900000e+03 3.18000000e+02 2.70000000e+01 4.56918239e+00\n",
      "  1.38000000e+02 1.10000000e+01 8.00000000e+01 2.40000000e+01\n",
      "  5.50000000e+01 2.20000000e+01]\n",
      " [3.90000000e+02 8.30000000e+01 4.00000000e+00 4.65060241e+00\n",
      "  6.20000000e+01 7.00000000e+00 2.10000000e+01 8.00000000e+00\n",
      "  1.30000000e+01 8.00000000e+00]]\n"
     ]
    },
    {
     "name": "stderr",
     "output_type": "stream",
     "text": [
      "C:\\ProgramData\\Anaconda3\\lib\\site-packages\\ipykernel_launcher.py:1: FutureWarning: Method .as_matrix will be removed in a future version. Use .values instead.\n",
      "  \"\"\"Entry point for launching an IPython kernel.\n"
     ]
    }
   ],
   "source": [
    "print(features_set1.iloc[:, 3:].as_matrix())"
   ]
  },
  {
   "cell_type": "code",
   "execution_count": null,
   "metadata": {},
   "outputs": [],
   "source": []
  }
 ],
 "metadata": {
  "kernelspec": {
   "display_name": "Python 3",
   "language": "python",
   "name": "python3"
  },
  "language_info": {
   "codemirror_mode": {
    "name": "ipython",
    "version": 3
   },
   "file_extension": ".py",
   "mimetype": "text/x-python",
   "name": "python",
   "nbconvert_exporter": "python",
   "pygments_lexer": "ipython3",
   "version": "3.7.3"
  }
 },
 "nbformat": 4,
 "nbformat_minor": 2
}
