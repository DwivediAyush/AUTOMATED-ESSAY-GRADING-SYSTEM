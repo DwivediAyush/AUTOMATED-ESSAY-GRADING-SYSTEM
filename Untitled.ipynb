{
 "cells": [
  {
   "cell_type": "code",
   "execution_count": null,
   "metadata": {},
   "outputs": [],
   "source": [
    "def index(request):\n",
    "    workbook=xlrd.open_workbook(\"training_set_rel.xlsx\")\n",
    "    sheet=workbook.sheet_by_index(0)\n",
    "    tool=language_check.LanguageTool('en-US')\n",
    "    tokenizer=RegexpTikenizer(r'\\w+')\n",
    "    array=[]\n",
    "    stop_word=set(stopwords.words('english'))\n",
    "    stop_word.update(['.',',','\"',\"'\",\"?\",\"!\",\":\",\";\",\"(\",\")\",\"[\",\"]\",\"{\",\"}\"])\n",
    "    punctuation=['.',',','\"',\"'\",\"?\",\"!\",\":\",\";\",\"(\",\")\",\"[\",\"]\",\"{\",\"}\"]\n",
    "    col=2\n",
    "    mark=3\n",
    "    word_count=\"\"\n",
    "    text=\"\"\n",
    "    sentence_count=\"\"\n",
    "    word_count_after_removing_stopwords=\"\"\n",
    "    ratio=\"\"\n",
    "    steam_count=\"\"\n",
    "    grammar_error=0counter=0\n",
    "    character=0\n",
    "    characters\n",
    "    0\n",
    "    rightlist=0\n",
    "    wornglist=0\n",
    "    numericlist=0\n",
    "    punclist=0\n",
    "    NN=0\n",
    "    NNP=0\n",
    "    NNS=0\n",
    "    NNPS=0\n",
    "    IN=0\n",
    "    PRP=0\n",
    "    VB=0\n",
    "    JJ=0\n",
    "    VBG=0VBN=0\n",
    "    VBZ=0\n",
    "    VBP=0\n",
    "    for i in range(1,50):\n",
    "        text=str(sheet.cell(row,col))\n",
    "        temp_mark=str(sheet.cell(row,mark))\n",
    "        num=int(re.search(r'\\d+',temp_marks').group()))\n",
    "                          \n",
    "        t_num=float(num)/6*100\n",
    "        print(num)\n",
    "                          "
   ]
  }
 ],
 "metadata": {
  "kernelspec": {
   "display_name": "Python 3",
   "language": "python",
   "name": "python3"
  },
  "language_info": {
   "codemirror_mode": {
    "name": "ipython",
    "version": 3
   },
   "file_extension": ".py",
   "mimetype": "text/x-python",
   "name": "python",
   "nbconvert_exporter": "python",
   "pygments_lexer": "ipython3",
   "version": "3.7.3"
  }
 },
 "nbformat": 4,
 "nbformat_minor": 2
}
